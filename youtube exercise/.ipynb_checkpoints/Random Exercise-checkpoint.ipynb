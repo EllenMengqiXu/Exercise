{
 "cells": [
  {
   "cell_type": "code",
   "execution_count": 2,
   "metadata": {},
   "outputs": [],
   "source": [
    "import random as r "
   ]
  },
  {
   "cell_type": "code",
   "execution_count": 8,
   "metadata": {},
   "outputs": [
    {
     "data": {
      "text/plain": [
       "0.7336825101977389"
      ]
     },
     "execution_count": 8,
     "metadata": {},
     "output_type": "execute_result"
    }
   ],
   "source": [
    "r.random() #[0,1)"
   ]
  },
  {
   "cell_type": "code",
   "execution_count": 11,
   "metadata": {},
   "outputs": [
    {
     "data": {
      "text/plain": [
       "2.464756686504127"
      ]
     },
     "execution_count": 11,
     "metadata": {},
     "output_type": "execute_result"
    }
   ],
   "source": [
    "r.uniform(1,10) #random floating [0,10]"
   ]
  },
  {
   "cell_type": "code",
   "execution_count": 17,
   "metadata": {},
   "outputs": [
    {
     "data": {
      "text/plain": [
       "2"
      ]
     },
     "execution_count": 17,
     "metadata": {},
     "output_type": "execute_result"
    }
   ],
   "source": [
    "r.randint(1,6) #inclusive "
   ]
  },
  {
   "cell_type": "code",
   "execution_count": 18,
   "metadata": {},
   "outputs": [
    {
     "data": {
      "text/plain": [
       "1"
      ]
     },
     "execution_count": 18,
     "metadata": {},
     "output_type": "execute_result"
    }
   ],
   "source": [
    "r.randint(0,1) # ramdom integer between 0 and 1"
   ]
  },
  {
   "cell_type": "code",
   "execution_count": 31,
   "metadata": {},
   "outputs": [
    {
     "name": "stdout",
     "output_type": "stream",
     "text": [
      "howdy, Ellen!\n"
     ]
    }
   ],
   "source": [
    "greetings = ['hello', 'hi', 'hey', 'howdy', 'hola']\n",
    "\n",
    "g = r.choice(greetings)\n",
    "# random choose from list\n",
    "\n",
    "print(g + ', Ellen!')"
   ]
  },
  {
   "cell_type": "code",
   "execution_count": 41,
   "metadata": {},
   "outputs": [
    {
     "data": {
      "text/plain": [
       "['black', 'red', 'black', 'green', 'red', 'red', 'red', 'red', 'red', 'black']"
      ]
     },
     "execution_count": 41,
     "metadata": {},
     "output_type": "execute_result"
    }
   ],
   "source": [
    "colors =['red', 'green', 'black']\n",
    "\n",
    "r.choices(colors, k=10, weights=[18,2,18]) \n",
    "#random choose multiple values based on weights"
   ]
  },
  {
   "cell_type": "code",
   "execution_count": 55,
   "metadata": {},
   "outputs": [],
   "source": [
    "deck = list(range(1,53))\n",
    "r.shuffle(deck)  #random shuffle the list inplace"
   ]
  },
  {
   "cell_type": "code",
   "execution_count": 61,
   "metadata": {},
   "outputs": [
    {
     "data": {
      "text/plain": [
       "[29, 6, 40, 31, 24]"
      ]
     },
     "execution_count": 61,
     "metadata": {},
     "output_type": "execute_result"
    }
   ],
   "source": [
    "r.sample(deck, k=5) \n",
    "# choose k unique values from list"
   ]
  },
  {
   "cell_type": "code",
   "execution_count": 62,
   "metadata": {},
   "outputs": [],
   "source": [
    "first_names= ['John', 'Jane', 'Chris']\n",
    "last_names = ['Smith', 'Doe', 'Davis']\n",
    "street_names = ['Main', 'High', 'Pearl']\n",
    "cities= ['New York', 'Boston', 'SLC']\n",
    "states=['NY', 'MA', 'UT']"
   ]
  },
  {
   "cell_type": "code",
   "execution_count": 67,
   "metadata": {},
   "outputs": [
    {
     "name": "stdout",
     "output_type": "stream",
     "text": [
      " Chris Smith \n",
      " 699 -555- 9689\n",
      " 492 Main St, SLC MA 38505\n",
      " chrissmith@mimicmail.com\n",
      "\n",
      " John Doe \n",
      " 524 -555- 5954\n",
      " 950 Main St, SLC MA 89671\n",
      " johndoe@mimicmail.com\n",
      "\n",
      " John Doe \n",
      " 742 -555- 2971\n",
      " 569 Pearl St, SLC MA 51892\n",
      " johndoe@mimicmail.com\n",
      "\n",
      " John Doe \n",
      " 613 -555- 2382\n",
      " 804 Main St, Boston NY 54656\n",
      " johndoe@mimicmail.com\n",
      "\n",
      " Jane Smith \n",
      " 774 -555- 1709\n",
      " 418 Main St, SLC NY 52216\n",
      " janesmith@mimicmail.com\n",
      "\n",
      " Chris Doe \n",
      " 219 -555- 4380\n",
      " 750 High St, SLC NY 63039\n",
      " chrisdoe@mimicmail.com\n",
      "\n",
      " John Doe \n",
      " 571 -555- 1533\n",
      " 276 Pearl St, Boston MA 88610\n",
      " johndoe@mimicmail.com\n",
      "\n",
      " John Smith \n",
      " 107 -555- 9814\n",
      " 587 Main St, New York UT 20385\n",
      " johnsmith@mimicmail.com\n",
      "\n",
      " John Davis \n",
      " 349 -555- 4820\n",
      " 596 Pearl St, SLC UT 51194\n",
      " johndavis@mimicmail.com\n",
      "\n",
      " John Smith \n",
      " 835 -555- 1600\n",
      " 534 High St, Boston UT 86906\n",
      " johnsmith@mimicmail.com\n",
      "\n"
     ]
    }
   ],
   "source": [
    "for num in range(10):\n",
    "    first = r.choice(first_names)\n",
    "    last = r.choice(last_names)\n",
    "    phone = f'{r.randint(100,999)} -555- {r.randint(1000,9999)}'\n",
    "    street_num = r.randint(100, 999)\n",
    "    street = r.choice(street_names)\n",
    "    city= r.choice(cities)\n",
    "    state = r.choice(states)\n",
    "    zip_code = r.randint(10000, 99999)\n",
    "    address = f'{street_num} {street} St, {city} {state} {zip_code}'\n",
    "    email = first.lower() + last.lower() + '@mimicmail.com'\n",
    "    \n",
    "    print(f' {first} {last} \\n {phone}\\n {address}\\n {email}\\n')"
   ]
  },
  {
   "cell_type": "code",
   "execution_count": null,
   "metadata": {},
   "outputs": [],
   "source": []
  }
 ],
 "metadata": {
  "kernelspec": {
   "display_name": "Python 3",
   "language": "python",
   "name": "python3"
  },
  "language_info": {
   "codemirror_mode": {
    "name": "ipython",
    "version": 3
   },
   "file_extension": ".py",
   "mimetype": "text/x-python",
   "name": "python",
   "nbconvert_exporter": "python",
   "pygments_lexer": "ipython3",
   "version": "3.7.3"
  },
  "varInspector": {
   "cols": {
    "lenName": 16,
    "lenType": 16,
    "lenVar": 40
   },
   "kernels_config": {
    "python": {
     "delete_cmd_postfix": "",
     "delete_cmd_prefix": "del ",
     "library": "var_list.py",
     "varRefreshCmd": "print(var_dic_list())"
    },
    "r": {
     "delete_cmd_postfix": ") ",
     "delete_cmd_prefix": "rm(",
     "library": "var_list.r",
     "varRefreshCmd": "cat(var_dic_list()) "
    }
   },
   "types_to_exclude": [
    "module",
    "function",
    "builtin_function_or_method",
    "instance",
    "_Feature"
   ],
   "window_display": false
  }
 },
 "nbformat": 4,
 "nbformat_minor": 2
}
